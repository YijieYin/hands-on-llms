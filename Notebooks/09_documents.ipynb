{
 "cells": [
  {
   "cell_type": "markdown",
   "metadata": {},
   "source": [
    "# RAG\n",
    "In this section we will start to see the glimpses of RAG. We start by figuring out how to handle external documents. We have already been exposed to building a database in the previous section, and we will use this knowledge to build a database over an example document.\n",
    "\n",
    "As with data storage, we have many, _**many**_ options for processing external documents. In this section we will make use of LlamaIndex. The approach will likely vary depending on the nature of your documents - html, pdf, word, folders, etc.\n",
    "\n",
    "Here, we focus on parsing a single PDF using `llama_index` and `PyMuPDFReader`."
   ]
  },
  {
   "cell_type": "code",
   "execution_count": 1,
   "metadata": {},
   "outputs": [],
   "source": [
    "# this is necessary for chromadb to not throw an error \n",
    "__import__('pysqlite3')\n",
    "import sys\n",
    "sys.modules['sqlite3'] = sys.modules.pop('pysqlite3')"
   ]
  },
  {
   "cell_type": "code",
   "execution_count": 2,
   "metadata": {},
   "outputs": [],
   "source": [
    "from llama_index.readers.file import PyMuPDFReader\n",
    "from llama_index.core.node_parser import SentenceSplitter\n",
    "\n",
    "from pydantic import BaseModel, Field\n",
    "\n",
    "import fitz\n",
    "\n",
    "from PIL import Image\n",
    "import matplotlib.pyplot as plt\n",
    "\n",
    "import chromadb\n",
    "from chromadb.utils.embedding_functions import OpenAIEmbeddingFunction\n",
    "\n",
    "import dotenv\n",
    "import os\n",
    "\n",
    "from openai import OpenAI\n",
    "\n",
    "from jinja2 import Environment, FileSystemLoader, select_autoescape\n",
    "from typing import Any\n",
    "\n",
    "dotenv.load_dotenv()\n",
    "OPENAI_API_KEY = os.getenv(\"OPENAI_API_KEY\")"
   ]
  },
  {
   "cell_type": "code",
   "execution_count": 3,
   "metadata": {},
   "outputs": [],
   "source": [
    "loader = PyMuPDFReader()\n",
    "documents = loader.load(file_path=\"data/Dombrovski et al. - 2023 - Synaptic gradients transform object location to ac.pdf\")"
   ]
  },
  {
   "cell_type": "code",
   "execution_count": 4,
   "metadata": {},
   "outputs": [
    {
     "data": {
      "text/plain": [
       "33"
      ]
     },
     "execution_count": 4,
     "metadata": {},
     "output_type": "execute_result"
    }
   ],
   "source": [
    "len(documents)"
   ]
  },
  {
   "cell_type": "markdown",
   "metadata": {},
   "source": [
    "This list contains 1 item for each page."
   ]
  },
  {
   "cell_type": "code",
   "execution_count": 5,
   "metadata": {},
   "outputs": [
    {
     "name": "stdout",
     "output_type": "stream",
     "text": [
      "534  |  Nature  |  Vol 613  |  19 January 2023\n",
      "Article\n",
      "Synaptic gradients transform object \n",
      "location to action\n",
      "Mark Dombrovski1,6, Martin Y. Peek2,6, Jin-Yong Park2,6, Andrea Vaccari3, Marissa Sumathipala2, \n",
      "Carmen Morrow2, Patrick Breads2, Arthur Zhao2, Yerbol Z. Kurmangaliyev1, Piero Sanfilippo1, \n",
      "Aadil Rehan1, Jason Polsky2, Shada Alghailani2, Emily Tenshaw2, Shigehiro Namiki2,4, \n",
      "S. Lawrence Zipursky1 ✉ & Gwyneth M. Card2,5 ✉\n",
      "To survive, animals must convert sensory information into appropriate behaviours1,2. \n",
      "Vision is a common sense for locating ethologically relevant stimuli and guiding \n",
      "motor responses3–5. How circuitry converts object location in retinal coordinates to \n",
      "movement direction in body coordinates remains largely unknown. Here we show \n",
      "through behaviour, physiology, anatomy and connectomics in Drosophila that \n",
      "visuomotor transformation occurs by conversion of topographic maps formed by  \n",
      "the dendrites of feature-detecting visual projection neurons (VPNs)6,7 into syn...\n"
     ]
    }
   ],
   "source": [
    "print(documents[0].text[:1000] + \"...\")"
   ]
  },
  {
   "cell_type": "markdown",
   "metadata": {},
   "source": [
    "## Extracting images\n",
    "It is probably handy to have the images extracted from the pdf. This is not always easy to do, but for this paper, we can use PyMuPDF to extract the images. Objects in a pdf are identified by a `xref` (cross reference) number.\n",
    "\n",
    "If you know this number, you can extract the image. But how do you find the `xref` number? One method is use PyMuPDF's image extraction functions. We can just loop through all `xref`s and try and extract the image. If it doesn't work, then it's not an image! PyMuPDF will do most of this for us."
   ]
  },
  {
   "cell_type": "code",
   "execution_count": 6,
   "metadata": {},
   "outputs": [],
   "source": [
    "def get_images(path: str):\n",
    "    doc = fitz.open(path)\n",
    "    for p, page in enumerate(doc):\n",
    "        images = page.get_images()\n",
    "        if len(images) > 0:\n",
    "            print(f\"Page {p} has {len(images)} images\")\n",
    "            for i, img in enumerate(images):\n",
    "                xref = img[0]\n",
    "                mref = img[1]\n",
    "                basepix = fitz.Pixmap(doc,xref)\n",
    "                maskpix = fitz.Pixmap(doc,mref)\n",
    "                pix = fitz.Pixmap(basepix, maskpix)\n",
    "                pix.save(f\"./data/page_{p}_image_{i}.png\")\n",
    "    print(\"Done\")\n"
   ]
  },
  {
   "cell_type": "code",
   "execution_count": 7,
   "metadata": {},
   "outputs": [],
   "source": [
    "\n",
    "def get_images(path):\n",
    "    \"\"\"\n",
    "    Extract images from PDF with proper error handling for invalid xrefs\n",
    "    \"\"\"\n",
    "    doc = fitz.open(path)\n",
    "    \n",
    "    # Create output directory if it doesn't exist\n",
    "    os.makedirs(\"./data\", exist_ok=True)\n",
    "    \n",
    "    total_images = 0\n",
    "    \n",
    "    for p in range(len(doc)):\n",
    "        page = doc[p]\n",
    "        images = page.get_images()\n",
    "        \n",
    "        print(f\"Page {p}: Found {len(images)} images\")\n",
    "        \n",
    "        for i, img in enumerate(images):\n",
    "            xref = img[0]  # Image xref\n",
    "            mref = img[1]  # Mask xref (can be 0 if no mask)\n",
    "            \n",
    "            try:\n",
    "                # Always create the base pixmap\n",
    "                basepix = fitz.Pixmap(doc, xref)\n",
    "                \n",
    "                # Only create mask pixmap if mref is valid (non-zero)\n",
    "                if mref != 0:\n",
    "                    try:\n",
    "                        maskpix = fitz.Pixmap(doc, mref)\n",
    "                        # Create combined pixmap with mask\n",
    "                        pix = fitz.Pixmap(basepix, maskpix)\n",
    "                        maskpix = None  # Clean up\n",
    "                    except ValueError as e:\n",
    "                        print(f\"Warning: Could not create mask for image {i} on page {p}: {e}\")\n",
    "                        # Use base pixmap without mask\n",
    "                        pix = basepix\n",
    "                else:\n",
    "                    # No mask reference, use base pixmap\n",
    "                    pix = basepix\n",
    "                \n",
    "                # Convert to RGB if needed (some images might be in CMYK or other formats)\n",
    "                if pix.n - pix.alpha < 3:  # Not RGB\n",
    "                    pix = fitz.Pixmap(fitz.csRGB, pix)\n",
    "                \n",
    "                # Save the image\n",
    "                filename = f\"./data/page_{p}_image_{i}.png\"\n",
    "                pix.save(filename)\n",
    "                print(f\"Saved: {filename}\")\n",
    "                \n",
    "                # Clean up pixmaps\n",
    "                pix = None\n",
    "                basepix = None\n",
    "                total_images += 1\n",
    "                \n",
    "            except ValueError as e:\n",
    "                print(f\"Error processing image {i} on page {p}: {e}\")\n",
    "                continue\n",
    "            except Exception as e:\n",
    "                print(f\"Unexpected error processing image {i} on page {p}: {e}\")\n",
    "                continue\n",
    "    \n",
    "    doc.close()\n",
    "    print(f\"Done! Extracted {total_images} images total.\")\n",
    "\n",
    "# Alternative approach: Extract all images without masks\n",
    "def get_images_simple(path):\n",
    "    \"\"\"\n",
    "    Simplified image extraction that avoids mask-related issues\n",
    "    \"\"\"\n",
    "    doc = fitz.open(path)\n",
    "    \n",
    "    # Create output directory if it doesn't exist\n",
    "    os.makedirs(\"./data\", exist_ok=True)\n",
    "    \n",
    "    total_images = 0\n",
    "    \n",
    "    for p in range(len(doc)):\n",
    "        page = doc[p]\n",
    "        images = page.get_images()\n",
    "        \n",
    "        print(f\"Page {p}: Found {len(images)} images\")\n",
    "        \n",
    "        for i, img in enumerate(images):\n",
    "            xref = img[0]\n",
    "            \n",
    "            try:\n",
    "                # Get image data directly\n",
    "                base_image = doc.extract_image(xref)\n",
    "                image_bytes = base_image[\"image\"]\n",
    "                image_ext = base_image[\"ext\"]\n",
    "                \n",
    "                # Save the image with original format\n",
    "                filename = f\"./data/page_{p}_image_{i}.{image_ext}\"\n",
    "                with open(filename, \"wb\") as f:\n",
    "                    f.write(image_bytes)\n",
    "                \n",
    "                print(f\"Saved: {filename}\")\n",
    "                total_images += 1\n",
    "                \n",
    "            except Exception as e:\n",
    "                print(f\"Error extracting image {i} on page {p}: {e}\")\n",
    "                continue\n",
    "    \n",
    "    doc.close()\n",
    "    print(f\"Done! Extracted {total_images} images total.\")\n"
   ]
  },
  {
   "cell_type": "code",
   "execution_count": 8,
   "metadata": {},
   "outputs": [
    {
     "name": "stdout",
     "output_type": "stream",
     "text": [
      "Page 0: Found 1 images\n",
      "Saved: ./data/page_0_image_0.png\n",
      "Page 1: Found 21 images\n",
      "Saved: ./data/page_1_image_0.png\n",
      "Saved: ./data/page_1_image_1.png\n",
      "Saved: ./data/page_1_image_2.png\n",
      "Saved: ./data/page_1_image_3.png\n",
      "Saved: ./data/page_1_image_4.png\n",
      "Saved: ./data/page_1_image_5.png\n",
      "Saved: ./data/page_1_image_6.png\n",
      "Saved: ./data/page_1_image_7.png\n",
      "Saved: ./data/page_1_image_8.png\n",
      "Saved: ./data/page_1_image_9.png\n",
      "Saved: ./data/page_1_image_10.png\n",
      "Saved: ./data/page_1_image_11.png\n",
      "Saved: ./data/page_1_image_12.png\n",
      "Saved: ./data/page_1_image_13.png\n",
      "Saved: ./data/page_1_image_14.png\n",
      "Saved: ./data/page_1_image_15.png\n",
      "Saved: ./data/page_1_image_16.png\n",
      "Saved: ./data/page_1_image_17.png\n",
      "Saved: ./data/page_1_image_18.png\n",
      "Saved: ./data/page_1_image_19.png\n",
      "Saved: ./data/page_1_image_20.png\n",
      "Page 2: Found 36 images\n",
      "Saved: ./data/page_2_image_0.png\n",
      "Saved: ./data/page_2_image_1.png\n",
      "Saved: ./data/page_2_image_2.png\n",
      "Saved: ./data/page_2_image_3.png\n",
      "Saved: ./data/page_2_image_4.png\n",
      "Saved: ./data/page_2_image_5.png\n",
      "Saved: ./data/page_2_image_6.png\n",
      "Saved: ./data/page_2_image_7.png\n",
      "Saved: ./data/page_2_image_8.png\n",
      "Saved: ./data/page_2_image_9.png\n",
      "Saved: ./data/page_2_image_10.png\n",
      "Saved: ./data/page_2_image_11.png\n",
      "Saved: ./data/page_2_image_12.png\n",
      "Saved: ./data/page_2_image_13.png\n",
      "Saved: ./data/page_2_image_14.png\n",
      "Saved: ./data/page_2_image_15.png\n",
      "Saved: ./data/page_2_image_16.png\n",
      "Saved: ./data/page_2_image_17.png\n",
      "Saved: ./data/page_2_image_18.png\n",
      "Saved: ./data/page_2_image_19.png\n",
      "Saved: ./data/page_2_image_20.png\n",
      "Saved: ./data/page_2_image_21.png\n",
      "Saved: ./data/page_2_image_22.png\n",
      "Saved: ./data/page_2_image_23.png\n",
      "Saved: ./data/page_2_image_24.png\n",
      "Saved: ./data/page_2_image_25.png\n",
      "Saved: ./data/page_2_image_26.png\n",
      "Saved: ./data/page_2_image_27.png\n",
      "Saved: ./data/page_2_image_28.png\n",
      "Saved: ./data/page_2_image_29.png\n",
      "Saved: ./data/page_2_image_30.png\n",
      "Saved: ./data/page_2_image_31.png\n",
      "Saved: ./data/page_2_image_32.png\n",
      "Saved: ./data/page_2_image_33.png\n",
      "Saved: ./data/page_2_image_34.png\n",
      "Saved: ./data/page_2_image_35.png\n",
      "Page 3: Found 0 images\n",
      "Page 4: Found 0 images\n",
      "Page 5: Found 31 images\n",
      "Saved: ./data/page_5_image_0.png\n",
      "Saved: ./data/page_5_image_1.png\n",
      "Saved: ./data/page_5_image_2.png\n",
      "Saved: ./data/page_5_image_3.png\n",
      "Saved: ./data/page_5_image_4.png\n",
      "Saved: ./data/page_5_image_5.png\n",
      "Saved: ./data/page_5_image_6.png\n",
      "Saved: ./data/page_5_image_7.png\n",
      "Saved: ./data/page_5_image_8.png\n",
      "Saved: ./data/page_5_image_9.png\n",
      "Saved: ./data/page_5_image_10.png\n",
      "Saved: ./data/page_5_image_11.png\n",
      "Saved: ./data/page_5_image_12.png\n",
      "Saved: ./data/page_5_image_13.png\n",
      "Saved: ./data/page_5_image_14.png\n",
      "Saved: ./data/page_5_image_15.png\n",
      "Saved: ./data/page_5_image_16.png\n",
      "Saved: ./data/page_5_image_17.png\n",
      "Saved: ./data/page_5_image_18.png\n",
      "Saved: ./data/page_5_image_19.png\n",
      "Saved: ./data/page_5_image_20.png\n",
      "Saved: ./data/page_5_image_21.png\n",
      "Saved: ./data/page_5_image_22.png\n",
      "Saved: ./data/page_5_image_23.png\n",
      "Saved: ./data/page_5_image_24.png\n",
      "Saved: ./data/page_5_image_25.png\n",
      "Saved: ./data/page_5_image_26.png\n",
      "Saved: ./data/page_5_image_27.png\n",
      "Saved: ./data/page_5_image_28.png\n",
      "Saved: ./data/page_5_image_29.png\n",
      "Saved: ./data/page_5_image_30.png\n",
      "Page 6: Found 6 images\n",
      "Saved: ./data/page_6_image_0.png\n",
      "Saved: ./data/page_6_image_1.png\n",
      "Saved: ./data/page_6_image_2.png\n",
      "Saved: ./data/page_6_image_3.png\n",
      "Saved: ./data/page_6_image_4.png\n",
      "Saved: ./data/page_6_image_5.png\n",
      "Page 7: Found 21 images\n",
      "Saved: ./data/page_7_image_0.png\n",
      "Saved: ./data/page_7_image_1.png\n",
      "Saved: ./data/page_7_image_2.png\n",
      "Saved: ./data/page_7_image_3.png\n",
      "Saved: ./data/page_7_image_4.png\n",
      "Saved: ./data/page_7_image_5.png\n",
      "Saved: ./data/page_7_image_6.png\n",
      "Saved: ./data/page_7_image_7.png\n",
      "Saved: ./data/page_7_image_8.png\n",
      "Saved: ./data/page_7_image_9.png\n",
      "Saved: ./data/page_7_image_10.png\n",
      "Saved: ./data/page_7_image_11.png\n",
      "Saved: ./data/page_7_image_12.png\n",
      "Saved: ./data/page_7_image_13.png\n",
      "Saved: ./data/page_7_image_14.png\n",
      "Saved: ./data/page_7_image_15.png\n",
      "Saved: ./data/page_7_image_16.png\n",
      "Saved: ./data/page_7_image_17.png\n",
      "Saved: ./data/page_7_image_18.png\n",
      "Saved: ./data/page_7_image_19.png\n",
      "Saved: ./data/page_7_image_20.png\n",
      "Page 8: Found 0 images\n",
      "Page 9: Found 0 images\n",
      "Page 10: Found 0 images\n",
      "Page 11: Found 0 images\n",
      "Page 12: Found 0 images\n",
      "Page 13: Found 4 images\n",
      "Saved: ./data/page_13_image_0.png\n",
      "Saved: ./data/page_13_image_1.png\n",
      "Saved: ./data/page_13_image_2.png\n",
      "Saved: ./data/page_13_image_3.png\n",
      "Page 14: Found 0 images\n",
      "Page 15: Found 0 images\n",
      "Page 16: Found 0 images\n",
      "Page 17: Found 6 images\n",
      "Saved: ./data/page_17_image_0.png\n",
      "Saved: ./data/page_17_image_1.png\n",
      "Saved: ./data/page_17_image_2.png\n",
      "Saved: ./data/page_17_image_3.png\n",
      "Saved: ./data/page_17_image_4.png\n",
      "Saved: ./data/page_17_image_5.png\n",
      "Page 18: Found 0 images\n",
      "Page 19: Found 1 images\n",
      "Saved: ./data/page_19_image_0.png\n",
      "Page 20: Found 1 images\n",
      "Saved: ./data/page_20_image_0.png\n",
      "Page 21: Found 0 images\n",
      "Page 22: Found 1 images\n",
      "Saved: ./data/page_22_image_0.png\n",
      "Page 23: Found 1 images\n",
      "Saved: ./data/page_23_image_0.png\n",
      "Page 24: Found 0 images\n",
      "Page 25: Found 1 images\n",
      "Saved: ./data/page_25_image_0.png\n",
      "Page 26: Found 1 images\n",
      "Saved: ./data/page_26_image_0.png\n",
      "Page 27: Found 1 images\n",
      "Saved: ./data/page_27_image_0.png\n",
      "Page 28: Found 0 images\n",
      "Page 29: Found 1 images\n",
      "Saved: ./data/page_29_image_0.png\n",
      "Page 30: Found 1 images\n",
      "Saved: ./data/page_30_image_0.png\n",
      "Page 31: Found 0 images\n",
      "Page 32: Found 0 images\n",
      "Done! Extracted 135 images total.\n"
     ]
    }
   ],
   "source": [
    "get_images(\"data/Dombrovski et al. - 2023 - Synaptic gradients transform object location to ac.pdf\")"
   ]
  },
  {
   "cell_type": "markdown",
   "metadata": {},
   "source": [
    "If we inspect one of these images, we can see that sure enough, it is a correct image."
   ]
  },
  {
   "cell_type": "code",
   "execution_count": 9,
   "metadata": {},
   "outputs": [
    {
     "data": {
      "image/png": "[encoded data removed]",
      "text/plain": [
       "<Figure size 640x480 with 1 Axes>"
      ]
     },
     "metadata": {},
     "output_type": "display_data"
    }
   ],
   "source": [
    "img = Image.open(\"data/page_1_image_0.png\")\n",
    "plt.imshow(img)\n",
    "plt.axis(\"off\")\n",
    "plt.show()"
   ]
  },
  {
   "cell_type": "markdown",
   "metadata": {},
   "source": [
    "In some cases, this might not be possible. Another method is to convert the pdf pages to images. We can then pass the images to a vision LLM and ask it to extract the images. "
   ]
  },
  {
   "cell_type": "markdown",
   "metadata": {},
   "source": [
    "## Creating a vector database"
   ]
  },
  {
   "cell_type": "markdown",
   "metadata": {},
   "source": [
    "Now we have our documents, we can create a vector database. We will use Chroma as before.\n",
    "\n",
    "First, we use the `text_parser` we created before to split the documents into chunks, and create indices. Essentially, the process is:\n",
    "\n",
    "- Split the document into chunks;\n",
    "- Add the chunks to a list;\n",
    "- Add the chunks to a database, assigning a unique index, and any metadata to the chunks.\n",
    "\n",
    "The splitting can occur in a few different ways: at `.`, page-breaks, paragraphs, sentences. You can also choose different chunk sizes and overlap sizes.\n",
    "\n",
    "We use the `SentenceSplitter` from LlamaIndex, and just pick some generic parameters."
   ]
  },
  {
   "cell_type": "code",
   "execution_count": 10,
   "metadata": {},
   "outputs": [
    {
     "data": {
      "text/plain": [
       "40"
      ]
     },
     "execution_count": 10,
     "metadata": {},
     "output_type": "execute_result"
    }
   ],
   "source": [
    "def chunker(chunk_size: int, overlap: int, documents: Any) -> tuple[list[str], list[int]]:\n",
    "    text_parser = SentenceSplitter(\n",
    "        chunk_size=chunk_size,\n",
    "        chunk_overlap=overlap,\n",
    "    )\n",
    "\n",
    "    text_chunks = []\n",
    "    doc_idxs = []\n",
    "    for doc_idx, doc in enumerate(documents):\n",
    "        cur_text_chunks = text_parser.split_text(doc.text)\n",
    "        text_chunks.extend(cur_text_chunks)\n",
    "        doc_idxs.extend([doc_idx] * len(cur_text_chunks))\n",
    "\n",
    "    return text_chunks, doc_idxs\n",
    "\n",
    "text_chunks, doc_idxs = chunker(chunk_size=2048, overlap=128, documents=documents)\n",
    "\n",
    "len(text_chunks)"
   ]
  },
  {
   "cell_type": "markdown",
   "metadata": {},
   "source": [
    "Reusing roughly the same database structure as before:"
   ]
  },
  {
   "cell_type": "code",
   "execution_count": null,
   "metadata": {},
   "outputs": [],
   "source": [
    "class DocumentDB:\n",
    "    def __init__(self, name: str, model_name: str = \"text-embedding-3-small\"):\n",
    "        self.model_name = model_name\n",
    "        self.client = chromadb.PersistentClient(path=\"./\")\n",
    "        self.embedding_function = OpenAIEmbeddingFunction(api_key=OPENAI_API_KEY, model_name=model_name)\n",
    "        self.chat_db = self.client.create_collection(name=name, embedding_function=self.embedding_function, metadata={\"hnsw:space\": \"cosine\"})\n",
    "        self.id_counter = 0\n",
    "\n",
    "\n",
    "    def add_chunks_to_db(self, chunks: list[str], doc_idxs: list[int], metadata: dict = {}):\n",
    "        \"\"\"Add text chunks to the database.\n",
    "\n",
    "        Args:\n",
    "            chunks (list[str]): List of text chunks.\n",
    "            doc_idxs (list[int]): List of corresponding document indices.\n",
    "        \"\"\"\n",
    "        self.chat_db.add(\n",
    "            documents=chunks,\n",
    "            metadatas=[{\"doc_idx\": idx} for idx in doc_idxs],\n",
    "            ids=[f\"chunk_{self.id_counter + i}\" for i in range(len(chunks))]\n",
    "        )\n",
    "        self.id_counter += len(chunks)\n",
    "\n",
    "\n",
    "    def get_all_entries(self) -> dict:\n",
    "        \"\"\"Grab all of the entries in the database.\n",
    "\n",
    "        Returns:\n",
    "            dict: All entries in the database.\n",
    "        \"\"\"\n",
    "        return self.chat_db.get()\n",
    "    \n",
    "\n",
    "    def clear_db(self, reinitialize: bool = True):\n",
    "        \"\"\"Clear the database of all entries, and reinitialize it.\n",
    "\n",
    "        Args:\n",
    "            reinitialize (bool, optional): _description_. Defaults to True.\n",
    "        \"\"\"\n",
    "        self.client.delete_collection(self.chat_db.name)\n",
    "        # re-initialize the database\n",
    "        if reinitialize:\n",
    "            self.__init__(self.chat_db.name, self.model_name)\n",
    "\n",
    "\n",
    "    def query_db(self, query_text: str, n_results: int = 2) -> dict:\n",
    "        \"\"\"Given some query text, return the n_results most similar entries in the database.\n",
    "\n",
    "        Args:\n",
    "            query_text (str): The text to query the database with.\n",
    "            n_results (int): The number of results to return.\n",
    "\n",
    "        Returns:\n",
    "            dict: The most similar entries in the database.\n",
    "        \"\"\"\n",
    "        return self.chat_db.query(query_texts=[query_text], n_results=n_results)"
   ]
  },
  {
   "cell_type": "markdown",
   "metadata": {},
   "source": [
    "Now we add our chunks to the database:"
   ]
  },
  {
   "cell_type": "code",
   "execution_count": 25,
   "metadata": {},
   "outputs": [],
   "source": [
    "# only add non empty chunks \n",
    "new_chunks = []\n",
    "new_indices = []\n",
    "for achunk, anidx in zip(text_chunks, doc_idxs): \n",
    "    if len(achunk)>0: \n",
    "        new_chunks.append(achunk)\n",
    "        new_indices.append(anidx)\n",
    "\n",
    "text_chunks = new_chunks\n",
    "doc_idxs = new_indices"
   ]
  },
  {
   "cell_type": "code",
   "execution_count": 27,
   "metadata": {},
   "outputs": [],
   "source": [
    "doc_db = DocumentDB(\"paper_db_test7\")\n",
    "\n",
    "doc_db.add_chunks_to_db(chunks=text_chunks, doc_idxs=doc_idxs)"
   ]
  },
  {
   "cell_type": "markdown",
   "metadata": {},
   "source": [
    "If you have already created the database then you will get an error if you try to run this again. You'll need to delete the `chroma.sqlite3` file and the folder with a name consisting of a long string of numbers and letters."
   ]
  },
  {
   "cell_type": "markdown",
   "metadata": {},
   "source": [
    "We now try a query and see what results we get back:"
   ]
  },
  {
   "cell_type": "code",
   "execution_count": 29,
   "metadata": {},
   "outputs": [
    {
     "name": "stdout",
     "output_type": "stream",
     "text": [
      "Sample query results for 'DNp02':\n"
     ]
    },
    {
     "data": {
      "text/plain": [
       "{'ids': [['chunk_2', 'chunk_20', 'chunk_22']],\n",
       " 'embeddings': None,\n",
       " 'documents': [['GF\\nFly\\nCNS\\nD\\nL\\nFraction of DN’s synaptic input\\ne\\nn = 358 596 289 115\\n38\\n87\\n279 258\\n128\\n253\\n–100\\n–50\\n0\\n50\\n100\\nDNp06\\nDNp05\\nDNp03\\nDNp04\\nGF\\nDNp02, DNp04,\\nDNp06\\nDNp02, DNp04\\nDNp02\\nEmpty\\nDNp11\\nΔ[T2 angle (°)]\\n•\\n•\\n•\\n•\\n•\\n•\\n•\\n••\\n•\\n•\\n•\\n•\\n• •\\n•\\n• •\\n•\\n•\\n•\\n•\\n•\\n•\\n•\\n•\\n•\\n•\\n•\\n•\\n•\\n•\\n•••\\n•\\n•\\n• •\\n•\\n•\\n•\\n•\\n•\\n•\\n•\\n•\\n•\\n•\\n•\\n•\\n•\\n•\\n•\\n•\\n•\\n•\\n•\\n•\\n•\\n•\\n•\\n• •\\n•\\n•\\n•\\n•\\n•\\n•\\n•\\n•\\n•\\n•\\n•\\n•\\n••\\n•\\n•\\n•\\n•\\n•\\n•\\n•\\n•\\n•\\n•\\n•\\n••\\n•\\n•\\n•\\n•\\n•\\n•\\n•\\n•\\n•\\n•\\n•\\n•\\n•\\n• •\\n•\\n•\\n•\\n•\\n•\\n•\\n•\\n•\\n•\\n•\\n•\\n•\\n•\\n•\\n•\\n•\\n•\\n•\\n•\\n•\\n•\\n•\\n•\\n•\\n•\\n•\\n•\\n•\\n•\\n•\\n•\\n•\\n•\\n•\\n•\\n•\\n•\\n•\\n•\\n•\\n•\\n•\\n•\\n•\\n•\\n•\\n•\\n•\\n•\\n•\\n•\\n•\\n•\\n•\\n•\\n•\\n•\\n•\\n•\\n•\\n•\\n•\\n•\\n•\\n•\\n•\\n•\\n•\\n•\\n•\\n•\\n•\\n•\\n•\\n••\\n•\\n•\\n•\\n•\\n•\\n•\\n•\\n•\\n•\\n•\\n•\\n•\\n•\\n•\\n•\\n•\\n••\\n•\\n•\\n•\\n•\\n•\\n•\\n•\\n•\\n• •\\n•\\n•\\n•\\n•\\n•\\n•\\n•\\n•\\n•\\n•\\n•\\n••\\n•\\n•\\n•\\n••\\n•\\n•\\n•\\n•\\n•\\n•\\n•\\n•••\\n•\\n•\\n•\\n•\\n•\\n•\\n•\\n•\\n•\\n••\\n•\\n•\\n•\\n•\\n•\\n•\\n•\\n•\\n•\\n•\\n••\\n•\\n•\\n•\\n•\\n•\\n•\\n•\\n•\\n•\\n•\\n•\\n•\\n•\\n•\\n•\\n•\\n•\\n•\\n•\\n•\\n•\\n•\\n•\\n•\\n•\\n•\\n• •\\n•\\n•\\n•\\n•\\n•\\n•\\n•\\n•\\n•\\n•\\n•\\n•\\n•\\n•\\n•\\n•\\n•\\n•\\n•\\n• •\\n•\\n•\\n•\\n•\\n•\\n•\\n•\\n•\\n•\\n•\\n•\\n•\\n•\\n•\\n•\\n•\\n•\\n•\\n•\\n•\\n•\\n•\\n•\\n••\\n•\\n••\\n•\\n•\\n•\\n••\\n•\\n•\\n•\\n•\\n•\\n•\\n•\\n•\\n•\\n••\\n•\\n•\\n•\\n•\\n•\\n•\\n•\\n•\\n••\\n•\\n•\\n•\\n•\\n• •\\n•\\n•\\n•\\n•\\n•\\n•\\n•\\n•\\n•\\n•\\n•\\n•\\n• •\\n•\\n•\\n•\\n••\\n•\\n•\\n•\\n••\\n•\\n•\\n•\\n•\\n•\\n••\\n•\\n•\\n•\\n•\\n•\\n•\\n•\\n•\\n•\\n•\\n•\\n•\\n•\\n•\\n•\\n•\\n•\\n•\\n•\\n•\\n•\\n•\\n•\\n••\\n•\\n•\\n•\\n•\\n••\\n•\\n•\\n•\\n•\\n•\\n•\\n•\\n•\\n•\\n••\\n•\\n•\\n•\\n•\\n•\\n•\\n•\\n•\\n•\\n•\\n•\\n•\\n• •\\n•\\n•\\n•\\n•\\n•\\n•\\n•\\n•\\n•\\n•\\n•\\n•\\n•\\n•\\n•\\n•\\n•\\n•\\n•\\n•\\n•\\n•\\n•\\n•\\n•\\n• •\\n•\\n•\\n•\\n•\\n•\\n•\\n•\\n•\\n•\\n•\\n•\\n•\\n•\\n•\\n•\\n•\\n•\\n•\\n•\\n•\\n•\\n•\\n•\\n•\\n•\\n•\\n•\\n•\\n•\\n•\\n•\\n•\\n•\\n•\\n•\\n•\\n•\\n•\\n•\\n•\\n•\\n•\\n•\\n•\\n•\\n•\\n••\\n•\\n•\\n•\\n•\\n•\\n•\\n•\\n•\\n•\\n•\\n•\\n•\\n•••\\n•\\n•\\n•\\n•\\n•\\n•\\n•\\n•\\n•\\n•\\n•\\n•\\n•\\n•\\n•\\n•\\n•\\n•\\n•\\n•\\n•\\n•\\n•\\n•\\n•\\n•\\n•\\n•\\n•\\n•\\n•\\n•\\n•\\n•\\n•\\n•\\n•\\n•\\n•\\n•\\n•\\n•\\n•••\\n•\\n•\\n•\\n•\\n•\\n•\\n•\\n•\\n•\\n•\\n•\\n•\\n• •\\n•\\n••\\n•\\n•\\n•\\n•\\n•\\n•\\n•\\n•\\n•\\n•\\n•\\n•\\n•\\n•\\n•\\n•\\n•\\n•\\n•\\n•\\n••\\n•\\n•\\n•\\n•\\n•\\n•\\n•\\n•\\n•\\n•••\\n•\\n•\\n•\\n•\\n•\\n•\\n•\\n•\\n•\\n•\\n•\\n•\\n•\\n•\\n•\\n•\\n•\\n•\\n• •\\n•\\n•\\n•\\n•\\n•\\n•\\n•\\n•\\n•\\n•\\n•\\n•\\n•\\n•\\n•\\n•\\n•\\n•\\n• •\\n•\\n•\\n•\\n•\\n•••\\n•\\n•\\n•\\n•\\n•\\n•\\n•\\n•\\n•\\n•\\n•\\n•\\n•\\n•••\\n•\\n•\\n•\\n•\\n•\\n•\\n•\\n•\\n•\\n•\\n•\\n•\\n•\\n•\\n•\\n•\\n•\\n•\\n•\\n•\\n•\\n•\\n• •\\n•\\n•\\n•\\n•\\n•\\n•\\n•\\n•\\n•\\n•\\n•\\n•\\n•\\n•\\n•\\n•\\n•\\n•\\n•\\n•\\n•\\n•\\n•\\n•\\n•\\n•\\n•\\n•\\n••\\n•\\n•\\n•\\n•\\n•\\n•\\n•\\n••\\n•\\n•\\n•\\n•\\n•\\n•\\n•\\n•\\n• •\\n•\\n•\\n•\\n•\\n•\\n•\\n•\\n•\\n•\\n•• •\\n•\\n•\\n•\\n•\\n• •\\n•••\\n•\\n•\\n•\\n•\\n•\\n•\\n•\\n•\\n•\\n•\\n•\\n•\\n•\\n•\\n•\\n•\\n•\\n•\\n•\\n•\\n•\\n•\\n•\\n•\\n•\\n•\\n•\\n•\\n•\\n•\\n•\\n•\\n•\\n•\\n•\\n•\\n•\\n•\\n•\\n•\\n•\\n•\\n•\\n•\\n••\\n••\\n•\\n•\\n•\\n•\\n•\\n•\\n•\\n•\\n•\\n•\\n•••\\n•\\n•\\n•\\n•\\n••\\n•\\n•\\n•\\n•\\n•\\n•\\n• •\\n•\\n•\\n•\\n•\\n•\\n•\\n•\\n•\\n•\\n•\\n••\\n•\\n•\\n•\\n•\\n•\\n•\\n•\\n•\\n•\\n• •\\n•\\n•\\n•\\n•\\n•\\n•\\n•\\n•\\n•\\n•\\n•\\n•\\n•\\n•\\n•\\n•\\n•\\n•\\n•\\n•\\n•\\n•\\n••\\n•\\n•\\n•\\n•\\n•\\n•\\n•\\n•\\n•\\n•\\n•\\n•\\n•\\n•\\n••\\n•\\n•\\n•\\n•\\n•\\n•\\n•\\n•\\n•\\n•\\n•\\n•\\n•\\n•\\n•\\n• •\\n•\\n•\\n• •\\n•\\n•\\n•\\n•\\n••\\n••\\n•\\n•\\n•\\n•\\n•\\n•\\n•\\n•\\n•\\n•\\n•\\n•\\n•\\n•\\n•\\n•\\n•\\n•\\n•\\n•\\n•\\n•\\n•\\n•\\n•\\n•\\n•\\n•\\n•\\n•\\n•\\n•\\n•\\n•\\n•\\n•\\n•\\n•\\n•\\n•\\n•\\n•\\n•\\n•\\n•\\n•\\n•\\n•\\n•\\n•\\n••\\n•\\n*** *** *** ***\\nGF\\nDNp02\\nDNp03\\nDNp04\\nDNp05\\nDNp11\\nDNp06\\nD\\nL\\n260\\n232\\n1,',\n",
       "   '0.2 mm\\n0.2 mm\\nazimuth 0°\\nc\\nd\\n0.2 mm\\n0.2 mm\\nazimuth 0°\\nazimuth 180°\\na\\nazimuth 0°\\nazimuth 90°\\nazimuth 180°\\n1 mm\\n1 mm\\n90\\n90\\nCOM0\\nCOMpre\\n0\\n0\\nn=51\\nb\\nDNp02\\nDNp03\\nEmpty\\nDNp05\\nDNp06\\nDNp04\\nDNp11\\nDNp02/04/06\\nDNp02/04\\n     GF\\n0\\n20\\n40\\n60\\n80\\n100\\nf\\ntime (ms)\\n0\\n400\\ntakeoff angle (°)\\n90\\n0\\ntstart\\ntend\\nθ\\nCOM\\nmovement\\n% Takeoff\\nn=516\\nn=256\\nn=448\\nn=118\\nn=137\\nn=93\\nn=51\\nn=18\\ng\\n****\\n****\\n****\\n****\\n***\\n****\\n****\\n*\\n**\\ne\\nDNp02, DNp04, DNp06 (SS02292)\\nDNp02, DNp04 (SS01544)\\n       Empty (SS01062)\\nDL_CTRL\\n     GF (SS00727)\\n    GF (SS27721)\\n   DNp02 (SS01053)\\n   DNp02 (SS01554)\\n   DNp03 (SS01081)\\n   DNp03 (SS01596)\\n   DNp04 (SS00934)\\n   DNp04 (SS01080)\\n   DNp05 (SS02612)\\n   DNp05 (SS00865)\\n   DNp06 (SS02256)\\n   DNp11 (SS49010)\\n   DNp11 (SS49024)\\n   DNp11 (SS49051)\\n% Takeoff\\n100\\n0\\n60\\n20\\n40\\n80\\n**\\n90\\n0\\nLooming\\nstimulus\\nCOM\\nLooming\\nstimulus\\np=0.0067\\np=1.13e-26\\np=4.36e-12\\n% escaped flies\\n30\\n0\\n30\\n0\\n30\\n0\\n30\\n0\\n30\\n0\\n3\\n5\\n7\\n10\\n20\\n50\\n100\\n250\\nEscape sequence duration (ms)\\nGF\\nDNp04\\nDNp11\\nDNp02, DNp04\\nDNp02, DNp04, DNp06\\nh\\n% short mode escape\\n100\\n0\\n60\\n20\\n40\\n80\\nDNp02, DNp04, DNp06\\nDNp02, DNp04\\nGF\\nDNp04\\nDNp11\\n****\\n****\\n****\\n****\\nExtended Data Fig. 1 | See next page for caption.',\n",
       "   'a\\n180° (rear)\\nlooming\\n0° (frontal)\\nlooming\\nb\\nc\\nDNp11>Kir2.1\\nEmpty (control)\\nDNp02>Kir2.1\\n0.2 mm\\n0.2 mm\\nf\\n% Takeoff\\nl/V = 10 ms, azimuth = 90°\\n0\\n40\\n80\\nl/V = 20 ms, azimuth = 90°\\n0\\n40\\n80\\nDNp02, DNp04 (SS01544)\\nDNp02, DNp04, DNp06 (SS02292)\\nEmpty (SS01062)\\nDL_CTRL\\n     GF (SS00727)\\n     GF (SS27721)\\nDNp02 (SS01053)\\nDNp02 (SS01554)\\nDNp03 (SS01081)\\nDNp03 (SS01596)\\nDNp04 (SS00934)\\nDNp04 (SS01080)\\nDNp05 (SS00865)\\nDNp05 (SS02612)\\nDNp06 (SS02256)\\nDNp11 (SS49010)\\nDNp11 (SS49024)\\nDNp11 (SS49051)\\nL1, L2 (SS00797)\\nl/V = 80 ms, azimuth = 90°\\n0\\n40\\n80\\nl/V = 40 ms, azimuth = 90°\\n0\\n40\\n80\\n0\\n40\\n80\\nl/V = 40 ms, azimuth = 0°\\n0\\n40\\n80\\nl/V = 40 ms, azimuth = 180°\\n**\\n****\\n****\\n****\\n****\\nn=118\\nUniformity: p=0.0067\\nn=114\\nn=206\\nn=93\\nUniformity: p=4.3579E-12\\nn=89\\nn=201\\nTakeoff Direction\\n0.2 m\\n0 2 m\\nPre-Takeoff Posture change\\nDNp11>Kir2.1\\nDNp02>Kir2.1\\nEmpty (control)\\n0° (frontal)\\nlooming\\nd\\ne\\n120\\n180\\n240\\n0\\n-250 -200 -150 -100 -50\\nTime (ms)\\nn=82\\nEmpty\\nDNp02\\nDNp11\\n100\\n150\\n200\\n250\\nT2 angle\\n before takeoff (°)\\n***\\n*\\nT2 angle (°)\\n120\\n180\\n240\\nn=51\\n0\\n-250 -200 -150 -100 -50\\nTime (ms)\\n120\\n180\\n240\\nn=51\\n0\\n-250 -200 -150 -100 -50\\nTime (ms)\\np>0.1\\nUniformity: p=2.8247E-11\\np>0.1\\nUniformity: p=1.3630E-35\\np<0.005\\nUniformity: p=0.0027\\np<0.001\\nUniformity: p=1.5287E-7\\nTakeoﬀ\\nForeward\\nTakeoﬀ\\nBackward\\n**\\n***\\nEmpty (control)\\nDNp02>Kir2.1\\nDNp11>Kir2.1\\nn=51\\nn=51\\nn=82\\nn=51\\nn=51\\nn=82\\nExtended Data Fig. 2 | See next page for caption.']],\n",
       " 'uris': None,\n",
       " 'included': ['metadatas', 'documents', 'distances'],\n",
       " 'data': None,\n",
       " 'metadatas': [[{'doc_idx': 1}, {'doc_idx': 13}, {'doc_idx': 15}]],\n",
       " 'distances': [[0.49848484992980957, 0.5199688673019409, 0.5327634811401367]]}"
      ]
     },
     "execution_count": 29,
     "metadata": {},
     "output_type": "execute_result"
    }
   ],
   "source": [
    "sample_query = \"DNp02\"\n",
    "results = doc_db.query_db(sample_query, n_results=3)\n",
    "print(f\"Sample query results for '{sample_query}':\")\n",
    "results"
   ]
  },
  {
   "cell_type": "markdown",
   "metadata": {},
   "source": [
    "This is all pretty messy, but we can see that we have\n",
    "\n",
    "`'documents'` The documents returned by the database query\n",
    "\n",
    "`'metadatas'` Any metadata we wanted to include, in this case only the index. But we could easily include the author and title of the paper...\n",
    "\n",
    "`'distances'` The similarity measure between the query and the returned context.\n",
    "\n",
    "The next step is to put these contexts, along with the query, into an LLM."
   ]
  },
  {
   "cell_type": "code",
   "execution_count": 30,
   "metadata": {},
   "outputs": [],
   "source": [
    "client = OpenAI()"
   ]
  },
  {
   "cell_type": "markdown",
   "metadata": {},
   "source": [
    "Our prompt will be simple for now. We use the standard way to load Jinja templates."
   ]
  },
  {
   "cell_type": "code",
   "execution_count": 31,
   "metadata": {},
   "outputs": [],
   "source": [
    "def load_template(template_filepath: str, arguments: dict[str, Any]) -> str:\n",
    "    env = Environment(\n",
    "        loader=FileSystemLoader(searchpath='./'),\n",
    "        autoescape=select_autoescape()\n",
    "    )\n",
    "    template = env.get_template(template_filepath)\n",
    "    return template.render(**arguments)\n",
    "\n",
    "system_prompt = load_template(\n",
    "    template_filepath=\"prompts/documents/rag_system_prompt.jinja\",\n",
    "    arguments={}\n",
    ")"
   ]
  },
  {
   "cell_type": "markdown",
   "metadata": {},
   "source": [
    "---\n",
    "```\n",
    "You are a helpful academic assistant that is an expert at extracting information from academic papers. You will be given a query, and some chunks of text that corresponds to a document. You will also be given the cosine similarity of the query with the text chunks.\n",
    "You must answer the query using the information in the text.\n",
    "Your answer must be concise and to the point.\n",
    "If you are unsure of something, you should say that you are unsure.\n",
    "\n",
    "### Input Format ###\n",
    "\n",
    "Query: <query>\n",
    "Context: <text chunk>\\n\\n\"\n",
    "Cosine Similarity: <similarity>\n",
    "----------\n",
    "```\n",
    "---"
   ]
  },
  {
   "cell_type": "markdown",
   "metadata": {},
   "source": [
    "We now need to combine the call to the retriever, along with combining the context into a function."
   ]
  },
  {
   "cell_type": "code",
   "execution_count": 56,
   "metadata": {},
   "outputs": [
    {
     "name": "stdout",
     "output_type": "stream",
     "text": [
      "PFL3 compare allocentric heading vs. goal angles,DP1m_vPN alcoholic_fermentation,MBON06 olfactory,DNge150 neuromodulatory,D_adPN dangerous,LPT23 visual_horizontal_widefieldmotion,putative_abd_Dsx_OA egg_laying; motor,SApp06 haltere, oviposition; reproduction,DNge078 antennal_grooming; grooming,putative_abd_ppk oviposition,AOTU019 frontal visual field object detection; steer object towards midline; increase forward velocity,DP1m_adPN alcoholic_fermentation,MeTu2a visual_polarized_light,pC1e oviposition, visual_small_object; visual,PAM04 appetitive_learning; appetitive,DNa12 abdomen_curl; abdomen_motion,LPT22 visual_horizontal_widefieldmotion,MBON14 appetitive_learning; aversive,DNp10 landing,LPLC2 Looming escape,DL5_adPN alcoholic_fermentation/dangerous/plant_matter; olfactory,DNge050 walking,H1 visual_horizontal_widefieldmotion; visual,LC16 Retreat behavior; visual_loom; backwards,LPT48_vCal3 visual_vertical_widefieldmotion, high gain steering,SA_VTV_DProN_1 chemosensory,SAch02 chemosensory,MBON17-like aversive,pIP10 courtship song,LHAV1a1 aversive odour processing,LC17 visual_loom,ORN_DA4l bacterial metabolite indole detection,PAM10 appetitive_learning; appetitive,MBON04 appetitive,DNg97 forward; walking,PAM02 appetitive_learning; appetitive,T4c ON upward motion,SApp04 notum,MBON19 visual; aversive,SA_VTV_8 chemosensory,DNa02 ipsiversive,Dm9 Color opponent; visual_chromatic,LAL073 bidirectional regulation of walking speed; scale odour-evoked run length, egg_laying; reproduction,CB0905 heart; neuromodulatory,R7d polarized UV detection,SApp02 haltere,PAM13 appetitive_learning; appetitive,LC10b visual_small_object; visual,MBON10 aversive,DNb01 turning; flight,SA_VTV_10 chemosensory,SNxx29 nociception,R8p Blue detection,DNx02 neck_motor,DNae003 turning; walking,SNxx31 wing,PPL106 gustatory; aversive,DNg104 neuromodulatory,LC21 visual_small_object; visual,SApp21 notum,dPR1 prothoracic song neuron,MBON16 thermohygro; aversive,SApp17 haltere,SMP550 oviposition; reproduction,PAM08_b appetitive_learning; appetitive,EPG heading direction,LPT31 visual_vertical_widefieldmotion,Nod2 visual_horizontal_widefield motion,ORN_DA1 cVA male pheromone detection,LPT45_dCal1 visual_vertical_widefieldmotion,LPT42_Nod4 visual_horizontal_widefieldmotion,P2b courtship,MBON27 visual; appetitive,R8d polarized UV detection,MeTu4d visual,SAxx02 nociception,aMe12 visual_chromatic, freezing; walking,DL2d_vPN decaying_fruit, gustatory; appetitive,PAM07 appetitive_learning; appetitive,DNge011 antennal_grooming; grooming, visual_large_objects; visual,DM2_lPN alcoholic_fermentation/fruity,AN08B134 proboscis_extension,DM5_lPN yeasty,DNp22 ocellar,T5c OFF motion detector,MeTu4b visual, aversive,LC9 visual_loom, pulse_song, R8d input to DmDRA2,DNg55 walking,LC4 Looming detector; visual_loom; flight; escape_takeoff,MBON11 hunger; aversive,DNg12 leg_rubbing,MBON20 aversive,DNp01 escape_takeoff,MBON02 appetitive,DNp03 turning; flight,SAchxx chemosensory,DM3_adPN yeasty/fruity/dangerous,DNg26 reproduction,Tm1 OFF delayed input,DC4_vPN dangerous,LC25 complex line motion; visual_thin_vertical_bar; visual,LPT47_vCal2 visual_vertical_widefieldmotion, visual_small_object; flight; escape_takeoff,MBON12 aversive,MeTu4c visual, flight,AN08B069 sine_song; wing_vibration,FD1 visual_horizontal_widefieldmotion; visual, low gain steering; turning,DM1_lPN yeasty,M_lv2PN9t49 thermo_hygro,PAM12 appetitive_learning; appetitive,Nod5 visual_vertical_widefieldmotion, walking,LC6 visual_loom,DNa11 turning; walking,SApp10 notum,T5b OFF motion detector,HSS Horizontal flow; visual_horizontal_widefieldmotion; visual,T4b ON back-to-front motion,LPT49 visual_vertical_widefieldmotion,DNg70 neuromodulatory,PAM06 appetitive_learning; appetitive,DNg30 neuromodulatory,DP1l_adPN alcoholic_fermentation,MeTu3b visual_chromatic, flight; escape_takeoff,DM6_adPN yeasty,SA_VTV_5 chemosensory,SApp05 haltere,LAL093 turning; lower speed; odour-evoked offset search,Tm5b UV,DNp07 landing,AN03A001 walking,AN08B043 sine_song; wing_vibration, visual_large_objects,DNp42 backing up; geosmin avoidance,DL2v_adPN decaying_fruit,LC15 visual_thin_vertical_bar,DNb05 ipsiversive steering; turning,DNg34 neuromodulatory, visual,DC3_adPN pheromones,M_vPNml62 thermo_hygro,CvN4 neck_control; neck_motor,DL3_lPN pheromones,CvN_A2 neck_motor,SA_VTV_7 chemosensory,SA_VTV_4 chemosensory,DNg14 abdomen_curl; abdomen_motion,DL1_adPN fruity, abdomen_curl,PPL101 olfactory; aversive,SAppxx haltere,ORN_DL4 sex pheromone of the parasitic wasp L.boulardi,DNp37 vaginal_plate_opening,AN10B001 turning,SA_VTV_2 chemosensory,CvN5 neck_control; neck_motor,MBON35 visual,putative_PU oviposition,MBON15 aversive,LPT26 visual_horizontal_widefieldmotion,MeTu3c visual_chromatic,abdominal_terminalia_bristle oviposition,DNc02 reproduction,Dm8b UV pooling,MBON29 appetitive,MBON24 mechanosensory,Mi1 ON delayed input,T5d OFF motion detector,PAM11 appetitive_learning; appetitive,PAM05_b appetitive_learning; appetitive,AN08B022 puff,DNp20 ocellar,il3LN6 increase left-right contrast in DA1_lPN,MBON33 visual,DNp09 turning on unilateral activation; forward on bilateral activation; abdomen_curl; freezing,LC12 visual_loom,HSN Horizontal flow; visual_horizontal_widefieldmotion; visual,M_smPNm1 thermo_hygro; thermosensory,SApp12 haltere,input to clock neurons,L1 ON motion input,DNp29 neuromodulatory,SApp20 notum,M_lPNm11A thermo_hygro,SApp18 notum,M_lvPNm48 humid_heating_olf; thermohygro; thermohygro,DNc01 reproduction,MBON30 aversive,DNp62 neuromodulatory; hunger,DNp25 thermo_hygro;,oviDNa_b oviposition,DNg75 forward; walking,AN07B038 grooming, visual; aversive,SApp07 haltere,oviDNa_a oviposition,PAM08_a appetitive_learning; appetitive,DNp44 thermo_hygro;,MeTu4a visual,oviDNb oviposition,polarization sensitive neuron,R7y UV detection,LC10e visual_small_object; visual,clock neuron,AN27X008 flight_induction,DA3_adPN fruity,DC2_adPN plant_matter,CvN2 neck_motor,dCH visual_horizontal_widefieldmotion,DNg100 forward; walking,DM3_vPN yeasty/fruity/dangerous,MBON05 appetitive,DC1_adPN fruity/dangerous,MBON07 appetitive,DNp06 turning,CvN1-3 neck_motor,M_l2PN10t19 decaying_fruit; thermohygro; thermo_hygro; thermosensory,AOTU025 lateral visual field object detection; steer object towards midline,PAM01 appetitive_learning; appetitive,Nod3 visual_horizontal_widefield motion,CvN6-8 neck_motor,DNp02 backward-jumping; escape_takeoff, R7d input to DmDRA1,Tm3 ON fast input,AN07B043 grooming,DNge138 neuromodulatory,DNp27 neuromodulatory,M_l2PNm17 thermo_hygro,MBON17 aversive,pC1b oviposition,H2 visual_horizontal_widefieldmotion; visual,SApp22 haltere,DNa04 flight,oviDNa oviposition,SApp03 haltere,LC10c visual_small_object; visual,DA4l_adPN bacterial metabolite indole detection; dangerous; olfactory,DNp42 backwards,MeTu1 visual_thin_vertical_bar,SApp23 leg,CvN6 neck_control; neck_motor,DNg22 neuromodulatory,PPL102 aversive,DL4_adPN sex pheromone of the parasitic wasp L.boulardi; dangerous,P1 courtship song,CvN3 neck_motor,DNa01 ipsiversive,pC1d oviposition,SApp14 notum, sine_song,CB0726 heart; neuromodulatory,AN05B023 pheromone,LAL091 turning; lower speed; odour-evoked offset search,DM4_adPN yeasty,HBeyelet circadian photosensitivity,DA1_lPN cVA male pheromone detection,DP1l_vPN alcoholic_fermentation,SAch01 chemosensory,SApp11 notum,Dm8 visual_chromatic; phototaxis; visual,DNg66 neuromodulatory,AN27X004 flight_induction,LPLC1 visual_loom; visual,pC1c oviposition,AN27X005 walking,M_vPNml60 thermo_hygro,MBON18 aversive,MeTu3a visual_polarized_light,ORN_DA2 geosmin sensing,DNp32 neuromodulatory,AN09B017 pheromone,DNp11 forward-jumping; escape_takeoff,LAL089 turning; lower speed; odour-evoked offset search,Dm8a UV pooling,SA_VTV_3 chemosensory,SAG mating_status; reproduction,L2 OFF motion input,DA2_lPN geosmin sensing; dangerous,R8y green detection,AN07B033 grooming,AN06B011 stride; walking,CvN7 neck_control; neck_motor,Mi4 ON inhibitory,T4a ON front-to-back motion, aggression,MBON23 aversive,T5a OFF motion detector,DNg28 feeding,LPT21 visual_horizontal_widefieldmotion,CvN5-8 neck_motor, visual_small_object; courtship; backward walking,MTe50 visual_chromatic; visual,R1-R6 Achromatic vision,DNpe048 neuromodulatory,pC1a oviposition,Tm2 OFF fast input,DNg11 leg_rubbing; grooming,AN19A018 halting,M_vPNml61 thermo_hygro,DNp13 oviposition; reproduction,PAM05_a appetitive_learning; appetitive,Dm3b Stripe-selective,SA_VTV_1 chemosensory,LPT04_HST visual_horizontal_widefieldmotion,SApp08 haltere, appetitive_learning; appetitive,MBON13 aversive, courtship,LC11 Small object; visual_small_object; visual,LC18 small object detection,R7p UV detection,SA_VTV_9 chemosensory,SApp15 haltere,LPT30 visual_vertical_widefieldmotion,SApp13 notum,DNp30 neuromodulatory; hunger,SAG-like reproduction,oviIN oviposition,MBON09 olfactory,DNp28 ocellar,DNg02 forward; flight,FC2 allocentric goal,AN08B059 sine_song; wing_vibration,AN07B067 grooming, vaginal_plate_opening,SMP092 activation: reduce groundspeed,DNg13 ipsiversive steering; turning; walking,DNge172 oviposition,DNge012 antennal_grooming; grooming,LC10d visual_small_object; visual,mesVUM-MJ flight,Tm5c Green detection,CRZ01,L4 Forward motion,CMU uterine_contraction; egg_laying,LPT27 visual_vertical_widefieldmotion,SA_VTV_6 chemosensory, feeding,LC10a visual_small_object; courtship; visual,DNg62 antennal_grooming; grooming,dMS9 singing; wing_vibration,PAM09 appetitive_learning; appetitive,FD3 visual_horizontal_widefieldmotion; visual,SNpp19 prosternal,DL2d_adPN decaying_fruit,DNb06 contraversive steering; turning,DNa03 turning; walking,MDN backwards walking,Tm4 OFF excitatory,DNge149 neuromodulatory,AN08B031 sine_song; wing_vibration,CRZ02 heart; neuromodulatory,LPT28 visual_vertical_widefieldmotion,LPT50 visual_vertical_widefieldmotion,PFL2 slowing & turning,T4d ON downward motion,PAM03 appetitive_learning; appetitive,DNp04 escape_takeoff,HST Horizontal flow,MBON28 aversive,L3 OFF motion support,MBON03 appetitive,MBON21 appetitive,MBON26 thermohygro; appetitive,AN10B005 rest,DC4_adPN dangerous, reproduction,Nod1 visual_horizontal_widefield motion,LC26 visual_loom,DNge053 walking,SNxx27 nociception,MeTu2b visual_polarized_light,AN07B047 grooming,SApp01 haltere,MBON32 visual,DNge152 neuromodulatory,PAM14 appetitive_learning; appetitive,MZ_lvPN thermo_hygro; thermohygro,MBON34 aversive,DNp15 turning,MBON01 appetitive,SApp19 notum,CvN_A1 neck_motor, head_sweeps; grooming,Mi9 sustained input,DA1_vPN pheromones,DNb02 turning,DM4_vPN yeasty,MBON15-like aversive,MBON31 aversive,abd_SAG_IN_input oviposition,MBON25 appetitive,MeMe_e10 visual_polarized_light, egg_laying,DNa15 turning; flight,HSE Horizontal flow; visual_horizontal_widefieldmotion; visual,putative_SPSN egg_laying\n"
     ]
    }
   ],
   "source": [
    "functions = 'abd_SAG_IN_input oviposition,abdominal_terminalia_bristle oviposition, egg_laying,input to clock neurons,input to clock neurons,input to clock neurons,aMe12 visual_chromatic,AN03A001 walking,AN05B023 pheromone,AN06B011 stride; walking,AN07B033 grooming,AN07B038 grooming,AN07B043 grooming,AN07B047 grooming,AN07B067 grooming,AN08B022 puff,AN08B031 sine_song; wing_vibration,AN08B043 sine_song; wing_vibration,AN08B059 sine_song; wing_vibration,AN08B069 sine_song; wing_vibration,AN08B134 proboscis_extension,AN09B017 pheromone,AN10B001 turning,AN10B005 rest,AN19A018 halting,AN27X004 flight_induction,AN27X005 walking,AN27X008 flight_induction,AOTU019 frontal visual field object detection; steer object towards midline; increase forward velocity,AOTU025 lateral visual field object detection; steer object towards midline,CB0726 heart; neuromodulatory,CB0905 heart; neuromodulatory,CMU uterine_contraction; egg_laying,CRZ01,CRZ02 heart; neuromodulatory,CvN_A1 neck_motor,CvN_A2 neck_motor,CvN1-3 neck_motor,CvN2 neck_motor,CvN3 neck_motor,CvN4 neck_control; neck_motor,CvN5 neck_control; neck_motor,CvN5-8 neck_motor,CvN6 neck_control; neck_motor,CvN6-8 neck_motor,CvN7 neck_control; neck_motor,D_adPN dangerous,DA1_lPN cVA male pheromone detection,DA1_vPN pheromones,DA2_lPN geosmin sensing; dangerous,DA3_adPN fruity,DA4l_adPN bacterial metabolite indole detection; dangerous; olfactory,DC1_adPN fruity/dangerous,DC2_adPN plant_matter,DC3_adPN pheromones,DC4_adPN dangerous,DC4_vPN dangerous,dCH visual_horizontal_widefieldmotion,DL1_adPN fruity,DL2d_adPN decaying_fruit,DL2d_vPN decaying_fruit,DL2v_adPN decaying_fruit,DL3_lPN pheromones,DL4_adPN sex pheromone of the parasitic wasp L.boulardi; dangerous,DL5_adPN alcoholic_fermentation/dangerous/plant_matter; olfactory,DM1_lPN yeasty,DM2_lPN alcoholic_fermentation/fruity,DM3_adPN yeasty/fruity/dangerous,DM3_vPN yeasty/fruity/dangerous,Dm3b Stripe-selective,DM4_adPN yeasty,DM4_vPN yeasty,DM5_lPN yeasty,DM6_adPN yeasty,Dm8 visual_chromatic; phototaxis; visual,Dm8a UV pooling,Dm8b UV pooling,Dm9 Color opponent; visual_chromatic,polarization sensitive neuron, R7d input to DmDRA1,polarization sensitive neuron, R8d input to DmDRA2,dMS9 singing; wing_vibration,DNa01 ipsiversive, low gain steering; turning,DNa02 ipsiversive, high gain steering,DNa03 turning; walking,DNa04 flight,DNa11 turning; walking,DNa12 abdomen_curl; abdomen_motion,DNa15 turning; flight,DNae003 turning; walking,DNb01 turning; flight,DNb02 turning,DNb05 ipsiversive steering; turning,DNb06 contraversive steering; turning,DNc01 reproduction, feeding,DNc02 reproduction, feeding,DNg02 forward; flight,DNg100 forward; walking,DNg104 neuromodulatory,DNg11 leg_rubbing; grooming,DNg12 leg_rubbing, head_sweeps; grooming,DNg13 ipsiversive steering; turning; walking,DNg14 abdomen_curl; abdomen_motion,DNg22 neuromodulatory,DNg26 reproduction,DNg28 feeding,DNg30 neuromodulatory,DNg34 neuromodulatory,DNg55 walking,DNg62 antennal_grooming; grooming,DNg66 neuromodulatory,DNg70 neuromodulatory,DNg75 forward; walking,DNg97 forward; walking,DNge011 antennal_grooming; grooming,DNge012 antennal_grooming; grooming,DNge050 walking,DNge053 walking,DNge078 antennal_grooming; grooming,DNge138 neuromodulatory,DNge149 neuromodulatory,DNge150 neuromodulatory,DNge152 neuromodulatory,DNge172 oviposition,DNp01 escape_takeoff,DNp02 backward-jumping; escape_takeoff,DNp03 turning; flight,DNp04 escape_takeoff,DNp06 turning, flight; escape_takeoff,DNp07 landing,DNp09 turning on unilateral activation; forward on bilateral activation; abdomen_curl; freezing,DNp10 landing,DNp11 forward-jumping; escape_takeoff,DNp13 oviposition; reproduction,DNp15 turning, walking, flight,DNp20 ocellar,DNp22 ocellar,DNp25 thermo_hygro;,DNp27 neuromodulatory,DNp28 ocellar,DNp29 neuromodulatory,DNp30 neuromodulatory; hunger,DNp32 neuromodulatory,DNp37 vaginal_plate_opening,DNp42 backwards,DNp42 backing up; geosmin avoidance,DNp44 thermo_hygro;,DNp62 neuromodulatory; hunger,DNpe048 neuromodulatory,DNx02 neck_motor,DP1l_adPN alcoholic_fermentation,DP1l_vPN alcoholic_fermentation,DP1m_adPN alcoholic_fermentation,DP1m_vPN alcoholic_fermentation,dPR1 prothoracic song neuron,EPG heading direction,FC2 allocentric goal,FD1 visual_horizontal_widefieldmotion; visual,FD3 visual_horizontal_widefieldmotion; visual,H1 visual_horizontal_widefieldmotion; visual,H2 visual_horizontal_widefieldmotion; visual,HBeyelet circadian photosensitivity,HSE Horizontal flow; visual_horizontal_widefieldmotion; visual,HSN Horizontal flow; visual_horizontal_widefieldmotion; visual,HSS Horizontal flow; visual_horizontal_widefieldmotion; visual,HST Horizontal flow,il3LN6 increase left-right contrast in DA1_lPN,clock neuron,L1 ON motion input,L2 OFF motion input,L3 OFF motion support,L4 Forward motion,LAL073 bidirectional regulation of walking speed; scale odour-evoked run length,LAL089 turning; lower speed; odour-evoked offset search,LAL091 turning; lower speed; odour-evoked offset search,LAL093 turning; lower speed; odour-evoked offset search,LC10a visual_small_object; courtship; visual,LC10b visual_small_object; visual,LC10c visual_small_object; visual,LC10d visual_small_object; visual,LC10e visual_small_object; visual,LC11 Small object; visual_small_object; visual,LC12 visual_loom, visual_large_objects, visual_small_object; visual,LC15 visual_thin_vertical_bar, visual_large_objects; visual,LC16 Retreat behavior; visual_loom; backwards, freezing; walking,LC17 visual_loom, visual_large_objects, visual_small_object; visual,LC18 small object detection,LC21 visual_small_object; visual,LC25 complex line motion; visual_thin_vertical_bar; visual,LC26 visual_loom, visual_small_object; visual,LC4 Looming detector; visual_loom; flight; escape_takeoff, visual,LC6 visual_loom, visual_small_object; flight; escape_takeoff,LC9 visual_loom, visual_small_object; courtship; backward walking,LHAV1a1 aversive odour processing,LPLC1 visual_loom; visual,LPLC2 Looming escape,LPT04_HST visual_horizontal_widefieldmotion,LPT21 visual_horizontal_widefieldmotion,LPT22 visual_horizontal_widefieldmotion,LPT23 visual_horizontal_widefieldmotion,LPT26 visual_horizontal_widefieldmotion,LPT27 visual_vertical_widefieldmotion,LPT28 visual_vertical_widefieldmotion,LPT30 visual_vertical_widefieldmotion,LPT31 visual_vertical_widefieldmotion,LPT42_Nod4 visual_horizontal_widefieldmotion,LPT45_dCal1 visual_vertical_widefieldmotion,LPT47_vCal2 visual_vertical_widefieldmotion,LPT48_vCal3 visual_vertical_widefieldmotion,LPT49 visual_vertical_widefieldmotion,LPT50 visual_vertical_widefieldmotion,M_l2PN10t19 decaying_fruit; thermohygro; thermo_hygro; thermosensory,M_l2PNm17 thermo_hygro,M_lPNm11A thermo_hygro,M_lv2PN9t49 thermo_hygro,M_lvPNm48 humid_heating_olf; thermohygro; thermohygro,M_smPNm1 thermo_hygro; thermosensory,M_vPNml60 thermo_hygro,M_vPNml61 thermo_hygro,M_vPNml62 thermo_hygro,MBON01 appetitive,MBON02 appetitive,MBON03 appetitive,MBON04 appetitive,MBON05 appetitive,MBON06 olfactory, appetitive_learning; appetitive,MBON07 appetitive,MBON09 olfactory, visual; aversive,MBON10 aversive,MBON11 hunger; aversive,MBON12 aversive,MBON13 aversive,MBON14 appetitive_learning; aversive,MBON15 aversive,MBON15-like aversive,MBON16 thermohygro; aversive,MBON17 aversive,MBON17-like aversive,MBON18 aversive,MBON19 visual; aversive,MBON20 aversive,MBON21 appetitive,MBON23 aversive,MBON24 mechanosensory, gustatory; appetitive,MBON25 appetitive,MBON26 thermohygro; appetitive,MBON27 visual; appetitive,MBON28 aversive,MBON29 appetitive,MBON30 aversive,MBON31 aversive,MBON32 visual, aversive,MBON33 visual, aversive,MBON34 aversive,MBON35 visual,MDN backwards walking,MeMe_e10 visual_polarized_light,mesVUM-MJ flight,MeTu1 visual_thin_vertical_bar,MeTu2a visual_polarized_light,MeTu2b visual_polarized_light,MeTu3a visual_polarized_light,MeTu3b visual_chromatic,MeTu3c visual_chromatic,MeTu4a visual,MeTu4b visual,MeTu4c visual,MeTu4d visual,Mi1 ON delayed input,Mi4 ON inhibitory,Mi9 sustained input,MTe50 visual_chromatic; visual,MZ_lvPN thermo_hygro; thermohygro,Nod1 visual_horizontal_widefield motion,Nod2 visual_horizontal_widefield motion,Nod3 visual_horizontal_widefield motion,Nod5 visual_vertical_widefieldmotion,ORN_DA1 cVA male pheromone detection,ORN_DA2 geosmin sensing,ORN_DA4l bacterial metabolite indole detection,ORN_DL4 sex pheromone of the parasitic wasp L.boulardi,oviDNa oviposition, abdomen_curl,oviDNa_a oviposition, abdomen_curl,oviDNa_b oviposition, abdomen_curl,oviDNb oviposition, abdomen_curl,oviIN oviposition,P1 courtship song,P2b courtship,PAM01 appetitive_learning; appetitive,PAM01 appetitive_learning; appetitive,PAM02 appetitive_learning; appetitive,PAM03 appetitive_learning; appetitive,PAM04 appetitive_learning; appetitive,PAM05_a appetitive_learning; appetitive,PAM05_b appetitive_learning; appetitive,PAM06 appetitive_learning; appetitive,PAM07 appetitive_learning; appetitive,PAM08_a appetitive_learning; appetitive,PAM08_a appetitive_learning; appetitive,PAM08_b appetitive_learning; appetitive,PAM09 appetitive_learning; appetitive,PAM10 appetitive_learning; appetitive,PAM11 appetitive_learning; appetitive,PAM12 appetitive_learning; appetitive,PAM13 appetitive_learning; appetitive,PAM14 appetitive_learning; appetitive,pC1a oviposition, vaginal_plate_opening, abdomen_curl, reproduction, sine_song, pulse_song, courtship, egg_laying,pC1b oviposition, vaginal_plate_opening, abdomen_curl, reproduction, sine_song, pulse_song, courtship, egg_laying,pC1c oviposition, vaginal_plate_opening, abdomen_curl, reproduction, sine_song, pulse_song, courtship, egg_laying,pC1d oviposition, vaginal_plate_opening, abdomen_curl, reproduction, sine_song, pulse_song, courtship, egg_laying, aggression,pC1e oviposition, vaginal_plate_opening, abdomen_curl, reproduction, sine_song, pulse_song, courtship, egg_laying, aggression,PFL2 slowing & turning,PFL3 compare allocentric heading vs. goal angles,pIP10 courtship song,PPL101 olfactory; aversive,PPL102 aversive,PPL106 gustatory; aversive,putative_abd_Dsx_OA egg_laying; motor,putative_abd_ppk oviposition, egg_laying; reproduction,putative_PU oviposition, egg_laying; reproduction,putative_SPSN egg_laying, oviposition; reproduction,R1-R6 Achromatic vision,R7d polarized UV detection,R7p UV detection,R7y UV detection,R8d polarized UV detection,R8p Blue detection,R8y green detection,SA_VTV_1 chemosensory,SA_VTV_10 chemosensory,SA_VTV_2 chemosensory,SA_VTV_3 chemosensory,SA_VTV_4 chemosensory,SA_VTV_5 chemosensory,SA_VTV_6 chemosensory,SA_VTV_7 chemosensory,SA_VTV_8 chemosensory,SA_VTV_9 chemosensory,SA_VTV_DProN_1 chemosensory,SAch01 chemosensory,SAch02 chemosensory,SAchxx chemosensory,SAG mating_status; reproduction,SAG-like reproduction,SApp01 haltere,SApp02 haltere,SApp03 haltere,SApp04 notum,SApp05 haltere,SApp06 haltere,SApp07 haltere,SApp08 haltere,SApp10 notum,SApp11 notum,SApp12 haltere,SApp13 notum,SApp14 notum,SApp15 haltere,SApp17 haltere,SApp18 notum,SApp19 notum,SApp20 notum,SApp21 notum,SApp22 haltere,SApp23 leg,SAppxx haltere,SAxx02 nociception,SMP092 activation: reduce groundspeed,SMP550 oviposition; reproduction,SNpp19 prosternal,SNxx27 nociception,SNxx29 nociception,SNxx31 wing,T4a ON front-to-back motion,T4b ON back-to-front motion,T4c ON upward motion,T4d ON downward motion,T5a OFF motion detector,T5b OFF motion detector,T5c OFF motion detector,T5d OFF motion detector,Tm1 OFF delayed input,Tm2 OFF fast input,Tm3 ON fast input,Tm4 OFF excitatory,Tm5b UV,Tm5c Green detection'\n",
    "print(','.join(set(str.split(functions, ','))))"
   ]
  },
  {
   "cell_type": "code",
   "execution_count": 73,
   "metadata": {},
   "outputs": [],
   "source": [
    "def combine_context(documents: list[str], scores: list[float]) -> str:\n",
    "    string = \"\"\n",
    "    for document, score in zip(documents, scores):\n",
    "        string += f\"{document}\\nCosine distance: {score:.2f}\\n{'-'*10}\\n\"\n",
    "    return string\n",
    "\n",
    "def get_context(user_input: str, n_results: int = 2, doc_db: DocumentDB = doc_db) -> str:\n",
    "    results = doc_db.query_db(user_input, n_results=n_results)\n",
    "    context_list = results[\"documents\"][0]\n",
    "    combined_context = combine_context(context_list, results[\"distances\"][0])\n",
    "    if not combined_context:\n",
    "        combined_context = \"No relevant chat history found.\"\n",
    "    return combined_context\n",
    "\n",
    "\n",
    "query = \"Please extract cell type names and their experimentally-tested functions (e.g. what behaviour do they trigger, what sensory input information do they receive) which are found in this paper and specific to these neurons. Please be as concise as possible, and get all cell types they tested experimentally. It's really important that you can all cell types, otherwise kittens die brutally, really. I don't care about functions such as 'produces bursts of action potentials' or generic descriptions of neuron recordings. You might be able to distinguish if they found those functions or others did by checking if they cited anyone after saying a neuron is responsible for something. I'm trying to get an inventory of neuron functions. Please be really, really, really concise - uses can go and check what's in the papers if they were interested. So keep the known_function within 6 words. max. I mean it. Here are some example known_functions: PFL3 compare allocentric heading vs. goal angles,DP1m_vPN alcoholic_fermentation,MBON06 olfactory,DNge150 neuromodulatory,D_adPN dangerous,LPT23 visual_horizontal_widefieldmotion,putative_abd_Dsx_OA egg_laying; motor,SApp06 haltere, oviposition; reproduction,DNge078 antennal_grooming; grooming,putative_abd_ppk oviposition,AOTU019 frontal visual field object detection; steer object towards midline; increase forward velocity,DP1m_adPN alcoholic_fermentation,MeTu2a visual_polarized_light,pC1e oviposition, visual_small_object; visual,PAM04 appetitive_learning; appetitive,DNa12 abdomen_curl; abdomen_motion,LPT22 visual_horizontal_widefieldmotion,MBON14 appetitive_learning; aversive,DNp10 landing,LPLC2 Looming escape,DL5_adPN alcoholic_fermentation/dangerous/plant_matter; olfactory,DNge050 walking,H1 visual_horizontal_widefieldmotion; visual,LC16 Retreat behavior; visual_loom; backwards,LPT48_vCal3 visual_vertical_widefieldmotion, high gain steering,SA_VTV_DProN_1 chemosensory,SAch02 chemosensory,MBON17-like aversive,pIP10 courtship song,LHAV1a1 aversive odour processing,LC17 visual_loom,ORN_DA4l bacterial metabolite indole detection,PAM10 appetitive_learning; appetitive,MBON04 appetitive,DNg97 forward; walking,PAM02 appetitive_learning; appetitive,T4c ON upward motion,SApp04 notum,MBON19 visual; aversive,SA_VTV_8 chemosensory,DNa02 ipsiversive,Dm9 Color opponent; visual_chromatic,LAL073 bidirectional regulation of walking speed; scale odour-evoked run length, egg_laying; reproduction,CB0905 heart; neuromodulatory,R7d polarized UV detection,SApp02 haltere,PAM13 appetitive_learning; appetitive,LC10b visual_small_object; visual,MBON10 aversive,DNb01 turning; flight,SA_VTV_10 chemosensory,SNxx29 nociception,R8p Blue detection,DNx02 neck_motor,DNae003 turning; walking,SNxx31 wing,PPL106 gustatory; aversive,DNg104 neuromodulatory,LC21 visual_small_object; visual,SApp21 notum,dPR1 prothoracic song neuron,MBON16 thermohygro; aversive,SApp17 haltere,SMP550 oviposition; reproduction,PAM08_b appetitive_learning; appetitive,EPG heading direction,LPT31 visual_vertical_widefieldmotion,Nod2 visual_horizontal_widefield motion,ORN_DA1 cVA male pheromone detection,LPT45_dCal1 visual_vertical_widefieldmotion,LPT42_Nod4 visual_horizontal_widefieldmotion,P2b courtship,MBON27 visual; appetitive,R8d polarized UV detection,MeTu4d visual,SAxx02 nociception,aMe12 visual_chromatic, freezing; walking,DL2d_vPN decaying_fruit, gustatory; appetitive,PAM07 appetitive_learning; appetitive,DNge011 antennal_grooming; grooming, visual_large_objects; visual,DM2_lPN alcoholic_fermentation/fruity,AN08B134 proboscis_extension,DM5_lPN yeasty,DNp22 ocellar,T5c OFF motion detector,MeTu4b visual, aversive,LC9 visual_loom, pulse_song, R8d input to DmDRA2,DNg55 walking,LC4 Looming detector; visual_loom; flight; escape_takeoff,MBON11 hunger; aversive,DNg12 leg_rubbing,MBON20 aversive,DNp01 escape_takeoff,MBON02 appetitive,DNp03 turning; flight,SAchxx chemosensory,DM3_adPN yeasty/fruity/dangerous,DNg26 reproduction,Tm1 OFF delayed input,DC4_vPN dangerous,LC25 complex line motion; visual_thin_vertical_bar; visual,LPT47_vCal2 visual_vertical_widefieldmotion, visual_small_object; flight; escape_takeoff,MBON12 aversive,MeTu4c visual, flight,AN08B069 sine_song; wing_vibration,FD1 visual_horizontal_widefieldmotion; visual, low gain steering; turning,DM1_lPN yeasty,M_lv2PN9t49 thermo_hygro,PAM12 appetitive_learning; appetitive,Nod5 visual_vertical_widefieldmotion, walking,LC6 visual_loom,DNa11 turning; walking,SApp10 notum,T5b OFF motion detector,HSS Horizontal flow; visual_horizontal_widefieldmotion; visual,T4b ON back-to-front motion,LPT49 visual_vertical_widefieldmotion,DNg70 neuromodulatory,PAM06 appetitive_learning; appetitive,DNg30 neuromodulatory,DP1l_adPN alcoholic_fermentation,MeTu3b visual_chromatic, flight; escape_takeoff,DM6_adPN yeasty,SA_VTV_5 chemosensory,SApp05 haltere,LAL093 turning; lower speed; odour-evoked offset search,Tm5b UV,DNp07 landing,AN03A001 walking,AN08B043 sine_song; wing_vibration, visual_large_objects,DNp42 backing up; geosmin avoidance,DL2v_adPN decaying_fruit,LC15 visual_thin_vertical_bar,DNb05 ipsiversive steering; turning,DNg34 neuromodulatory, visual,DC3_adPN pheromones,M_vPNml62 thermo_hygro,CvN4 neck_control; neck_motor,DL3_lPN pheromones,CvN_A2 neck_motor,SA_VTV_7 chemosensory,SA_VTV_4 chemosensory,DNg14 abdomen_curl; abdomen_motion,DL1_adPN fruity, abdomen_curl,PPL101 olfactory; aversive,SAppxx haltere,ORN_DL4 sex pheromone of the parasitic wasp L.boulardi,DNp37 vaginal_plate_opening,AN10B001 turning,SA_VTV_2 chemosensory,CvN5 neck_control; neck_motor,MBON35 visual,putative_PU oviposition,MBON15 aversive,LPT26 visual_horizontal_widefieldmotion,MeTu3c visual_chromatic,abdominal_terminalia_bristle oviposition,DNc02 reproduction,Dm8b UV pooling,MBON29 appetitive,MBON24 mechanosensory,Mi1 ON delayed input,T5d OFF motion detector,PAM11 appetitive_learning; appetitive,PAM05_b appetitive_learning; appetitive,AN08B022 puff,DNp20 ocellar,il3LN6 increase left-right contrast in DA1_lPN,MBON33 visual,DNp09 turning on unilateral activation; forward on bilateral activation; abdomen_curl; freezing,LC12 visual_loom,HSN Horizontal flow; visual_horizontal_widefieldmotion; visual,M_smPNm1 thermo_hygro; thermosensory,SApp12 haltere,input to clock neurons,L1 ON motion input,DNp29 neuromodulatory,SApp20 notum,M_lPNm11A thermo_hygro,SApp18 notum,M_lvPNm48 humid_heating_olf; thermohygro; thermohygro,DNc01 reproduction,MBON30 aversive,DNp62 neuromodulatory; hunger,DNp25 thermo_hygro;,oviDNa_b oviposition,DNg75 forward; walking,AN07B038 grooming, visual; aversive,SApp07 haltere,oviDNa_a oviposition,PAM08_a appetitive_learning; appetitive,DNp44 thermo_hygro;,MeTu4a visual,oviDNb oviposition,polarization sensitive neuron,R7y UV detection,LC10e visual_small_object; visual,clock neuron,AN27X008 flight_induction,DA3_adPN fruity,DC2_adPN plant_matter,CvN2 neck_motor,dCH visual_horizontal_widefieldmotion,DNg100 forward; walking,DM3_vPN yeasty/fruity/dangerous,MBON05 appetitive,DC1_adPN fruity/dangerous,MBON07 appetitive,DNp06 turning,CvN1-3 neck_motor,M_l2PN10t19 decaying_fruit; thermohygro; thermo_hygro; thermosensory,AOTU025 lateral visual field object detection; steer object towards midline,PAM01 appetitive_learning; appetitive,Nod3 visual_horizontal_widefield motion,CvN6-8 neck_motor, escape_takeoff, R7d input to DmDRA1,Tm3 ON fast input,AN07B043 grooming,DNge138 neuromodulatory,DNp27 neuromodulatory,M_l2PNm17 thermo_hygro,MBON17 aversive,pC1b oviposition,H2 visual_horizontal_widefieldmotion; visual,SApp22 haltere,DNa04 flight,oviDNa oviposition,SApp03 haltere,LC10c visual_small_object; visual,DA4l_adPN bacterial metabolite indole detection; dangerous; olfactory,DNp42 backwards,MeTu1 visual_thin_vertical_bar,SApp23 leg,CvN6 neck_control; neck_motor,DNg22 neuromodulatory,PPL102 aversive,DL4_adPN sex pheromone of the parasitic wasp L.boulardi; dangerous,P1 courtship song,CvN3 neck_motor,DNa01 ipsiversive,pC1d oviposition,SApp14 notum, sine_song,CB0726 heart; neuromodulatory,AN05B023 pheromone,LAL091 turning; lower speed; odour-evoked offset search,DM4_adPN yeasty,HBeyelet circadian photosensitivity,DA1_lPN cVA male pheromone detection,DP1l_vPN alcoholic_fermentation,SAch01 chemosensory,SApp11 notum,Dm8 visual_chromatic; phototaxis; visual,DNg66 neuromodulatory,AN27X004 flight_induction,LPLC1 visual_loom; visual,pC1c oviposition,AN27X005 walking,M_vPNml60 thermo_hygro,MBON18 aversive,MeTu3a visual_polarized_light,ORN_DA2 geosmin sensing,DNp32 neuromodulatory,AN09B017 pheromone; escape_takeoff,LAL089 turning; lower speed; odour-evoked offset search,Dm8a UV pooling,SA_VTV_3 chemosensory,SAG mating_status; reproduction,L2 OFF motion input,DA2_lPN geosmin sensing; dangerous,R8y green detection,AN07B033 grooming,AN06B011 stride; walking,CvN7 neck_control; neck_motor,Mi4 ON inhibitory,T4a ON front-to-back motion, aggression,MBON23 aversive,T5a OFF motion detector,DNg28 feeding,LPT21 visual_horizontal_widefieldmotion,CvN5-8 neck_motor, visual_small_object; courtship; backward walking,MTe50 visual_chromatic; visual,R1-R6 Achromatic vision,DNpe048 neuromodulatory,pC1a oviposition,Tm2 OFF fast input,DNg11 leg_rubbing; grooming,AN19A018 halting,M_vPNml61 thermo_hygro,DNp13 oviposition; reproduction,PAM05_a appetitive_learning; appetitive,Dm3b Stripe-selective,SA_VTV_1 chemosensory,LPT04_HST visual_horizontal_widefieldmotion,SApp08 haltere, appetitive_learning; appetitive,MBON13 aversive, courtship,LC11 Small object; visual_small_object; visual,LC18 small object detection,R7p UV detection,SA_VTV_9 chemosensory,SApp15 haltere,LPT30 visual_vertical_widefieldmotion,SApp13 notum,DNp30 neuromodulatory; hunger,SAG-like reproduction,oviIN oviposition,MBON09 olfactory,DNp28 ocellar,DNg02 forward; flight,FC2 allocentric goal,AN08B059 sine_song; wing_vibration,AN07B067 grooming, vaginal_plate_opening,SMP092 activation: reduce groundspeed,DNg13 ipsiversive steering; turning; walking,DNge172 oviposition,DNge012 antennal_grooming; grooming,LC10d visual_small_object; visual,mesVUM-MJ flight,Tm5c Green detection,CRZ01,L4 Forward motion,CMU uterine_contraction; egg_laying,LPT27 visual_vertical_widefieldmotion,SA_VTV_6 chemosensory, feeding,LC10a visual_small_object; courtship; visual,DNg62 antennal_grooming; grooming,dMS9 singing; wing_vibration,PAM09 appetitive_learning; appetitive,FD3 visual_horizontal_widefieldmotion; visual,SNpp19 prosternal,DL2d_adPN decaying_fruit,DNb06 contraversive steering; turning,DNa03 turning; walking,MDN backwards walking,Tm4 OFF excitatory,DNge149 neuromodulatory,AN08B031 sine_song; wing_vibration,CRZ02 heart; neuromodulatory,LPT28 visual_vertical_widefieldmotion,LPT50 visual_vertical_widefieldmotion,PFL2 slowing & turning,T4d ON downward motion,PAM03 appetitive_learning; appetitive,HST Horizontal flow,MBON28 aversive,L3 OFF motion support,MBON03 appetitive,MBON21 appetitive,MBON26 thermohygro; appetitive,AN10B005 rest,DC4_adPN dangerous, reproduction,Nod1 visual_horizontal_widefield motion,LC26 visual_loom,DNge053 walking,SNxx27 nociception,MeTu2b visual_polarized_light,AN07B047 grooming,SApp01 haltere,MBON32 visual,DNge152 neuromodulatory,PAM14 appetitive_learning; appetitive,MZ_lvPN thermo_hygro; thermohygro,MBON34 aversive,DNp15 turning,MBON01 appetitive,SApp19 notum,CvN_A1 neck_motor, head_sweeps; grooming,Mi9 sustained input,DA1_vPN pheromones,DNb02 turning,DM4_vPN yeasty,MBON15-like aversive,MBON31 aversive,abd_SAG_IN_input oviposition,MBON25 appetitive,MeMe_e10 visual_polarized_light, egg_laying,DNa15 turning; flight,HSE Horizontal flow; visual_horizontal_widefieldmotion; visual,putative_SPSN egg_laying. Please put the results into the following fields: cell_type and knwon_function in json format.\"\n",
    "context = get_context(query, n_results=5)"
   ]
  },
  {
   "cell_type": "code",
   "execution_count": 74,
   "metadata": {},
   "outputs": [],
   "source": [
    "user_prompt = (\n",
    "    f\"Query: {query}\\n\\n\"\n",
    "    f\"Context: {context}\"\n",
    ")"
   ]
  },
  {
   "cell_type": "code",
   "execution_count": 75,
   "metadata": {},
   "outputs": [
    {
     "name": "stdout",
     "output_type": "stream",
     "text": [
      "{\n",
      "  \"cell_types\": [\n",
      "    {\n",
      "      \"cell_type\": \"DNp02\",\n",
      "      \"known_function\": \"backward escape trajectory\"\n",
      "    },\n",
      "    {\n",
      "      \"cell_type\": \"DNp11\",\n",
      "      \"known_function\": \"forward postural shifts\"\n",
      "    },\n",
      "    {\n",
      "      \"cell_type\": \"DNp04\",\n",
      "      \"known_function\": \"backward body movements\"\n",
      "    },\n",
      "    {\n",
      "      \"cell_type\": \"GF\",\n",
      "      \"known_function\": \"takeoff direction\"\n",
      "    }\n",
      "  ]\n",
      "}"
     ]
    }
   ],
   "source": [
    "response = client.chat.completions.create(\n",
    "    model=\"gpt-4o-mini\",\n",
    "    messages=[\n",
    "        {\"role\": \"system\", \"content\": system_prompt},\n",
    "        {\"role\": \"user\", \"content\": user_prompt}\n",
    "    ],\n",
    "    stream=True,\n",
    "    temperature=0.0, \n",
    "    response_format={\"type\": \"json_object\"}\n",
    ")\n",
    "\n",
    "for chunk in response:\n",
    "    if chunk.choices[0].delta.content is not None:\n",
    "        print(chunk.choices[0].delta.content, end=\"\")"
   ]
  },
  {
   "cell_type": "markdown",
   "metadata": {},
   "source": [
    "Meh.\n",
    "\n",
    "This is OK, but not all of these chunks are massively useful. This highlights one of the most important parts of building RAG pipelines: RAG systems live and die on the quality of the retrieval process. And the retrieval process depends strongly on the quality of the embeddings created from the documents.\n",
    "\n",
    "But also, consider what question we are actually asking? \n",
    "\n",
    "```python\n",
    "\"What are the main findings of this paper?\"\n",
    "```\n",
    "\n",
    "The only way we are going to get meaningful chunks returned, ready to be ingested by the LLM, is if there are similar chunks within the body of text. In other words, a phrase similar to \"main finding of this paper\" would have to appear in one of the chunks! So we have two main issues:\n",
    "\n",
    "1. The quality of the chunks are not very good due to the parsing process;\n",
    "2. We have to know what kinds of questions to ask of our models.\n",
    "\n",
    "In this case, it would have probably been better to just stuff the entire document into the model context window (this technique is literally called stuffing).\n",
    "\n",
    "Let's ask another question to demonstrate this:"
   ]
  },
  {
   "cell_type": "code",
   "execution_count": 35,
   "metadata": {},
   "outputs": [
    {
     "name": "stdout",
     "output_type": "stream",
     "text": [
      "The paper was written by G.M.C. (Gwyneth M. Card), M.Y.P. (M. Y. P.), M.D. (M. D.), and S.L.Z. (S. Lawrence Zipursky), along with contributions from other authors.\n"
     ]
    }
   ],
   "source": [
    "def combine_context(documents: list[str], scores: list[float]) -> str:\n",
    "    string = \"\"\n",
    "    for document, score in zip(documents, scores):\n",
    "        string += f\"{document}\\nCosine distance: {score:.2f}\\n{'-'*10}\\n\"\n",
    "    return string\n",
    "\n",
    "\n",
    "def rag_query(query: str, n_context, return_context=False):\n",
    "    query_results = doc_db.query_db(query, n_results=n_context)\n",
    "    context_list = query_results[\"documents\"][0]\n",
    "    combined_context = combine_context(context_list, query_results[\"distances\"][0])\n",
    "    if not combined_context:\n",
    "        combined_context = \"No relevant chat history found.\"\n",
    "\n",
    "\n",
    "    system_prompt = load_template(\n",
    "        template_filepath=\"prompts/documents/rag_system_prompt.jinja\",\n",
    "        arguments={}\n",
    "    )\n",
    "\n",
    "    user_prompt = (\n",
    "        f\"Query: {query}\\n\\n\"\n",
    "        f\"Context: {combined_context}\"\n",
    "    )\n",
    "\n",
    "    response = client.chat.completions.create(\n",
    "        model=\"gpt-4o-mini\",\n",
    "        messages=[\n",
    "            {\"role\": \"system\", \"content\": system_prompt},\n",
    "            {\"role\": \"user\", \"content\": user_prompt}\n",
    "        ],\n",
    "        stream=False,\n",
    "        temperature=0.0\n",
    "    )\n",
    "    \n",
    "    if return_context:\n",
    "        return response.choices[0].message.content, context_list\n",
    "    else:\n",
    "        return response.choices[0].message.content\n",
    "\n",
    "\n",
    "response = rag_query(\n",
    "    query=\"Who wrote this paper?\",\n",
    "    n_context=2\n",
    ")\n",
    "\n",
    "print(response)    "
   ]
  },
  {
   "cell_type": "markdown",
   "metadata": {},
   "source": [
    "Of course, this is ridiculous. We know that this paper was written by Raphaël Millière and Cameron Buckner. But how would the retriever know how to receive the correct information? Where in the text would there be anything similar to, \"Who wrote this paper?\". You might get lucky if you include the word \"authors\", but try that for this paper, and you'll get the same result."
   ]
  },
  {
   "cell_type": "code",
   "execution_count": 40,
   "metadata": {},
   "outputs": [
    {
     "name": "stdout",
     "output_type": "stream",
     "text": [
      "The paper does not explicitly state an author. However, based on the context provided, a best guess for the author could be \"Buckner, C. J.\" as they are mentioned multiple times in the text and seem to be discussing relevant topics related to language models and philosophy.\n"
     ]
    }
   ],
   "source": [
    "response = rag_query(\n",
    "    query=\"Who wrote this paper? If there is no explicitely stated author, then make a best guess.\",\n",
    "    n_context=5\n",
    ")\n",
    "print(response)   "
   ]
  },
  {
   "cell_type": "markdown",
   "metadata": {},
   "source": [
    "Give the model a little more freedom, and it can sometimes infer one of the authors. Note that we can actually extract the authors in a couple of ways - sometimes they are included in the metadata of the pdf, but their names will usually be in the first document chunk!\n",
    "\n",
    "You could use this information and either add it as metadata to the entire collection or to individual chunks."
   ]
  },
  {
   "cell_type": "markdown",
   "metadata": {},
   "source": [
    "## Further work\n",
    "\n",
    "This example is a very naive form of RAG. Additional techniques might include hybrid search or contextual retrieval."
   ]
  }
 ],
 "metadata": {
  "kernelspec": {
   "display_name": "Python 3",
   "language": "python",
   "name": "python3"
  },
  "language_info": {
   "codemirror_mode": {
    "name": "ipython",
    "version": 3
   },
   "file_extension": ".py",
   "mimetype": "text/x-python",
   "name": "python",
   "nbconvert_exporter": "python",
   "pygments_lexer": "ipython3",
   "version": "3.12.1"
  }
 },
 "nbformat": 4,
 "nbformat_minor": 2
}
